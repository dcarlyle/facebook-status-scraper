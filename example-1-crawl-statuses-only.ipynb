{
 "cells": [
  {
   "cell_type": "code",
   "execution_count": 1,
   "metadata": {
    "collapsed": true
   },
   "outputs": [],
   "source": [
    "import FacebookStatusScraper as fss"
   ]
  },
  {
   "cell_type": "markdown",
   "metadata": {},
   "source": [
    "##### We scrape Lee Hsien Loong's Facebook statuses, *excluding* the comments and the replies (to the comments)."
   ]
  },
  {
   "cell_type": "code",
   "execution_count": 2,
   "metadata": {
    "collapsed": true
   },
   "outputs": [],
   "source": [
    "app_id       = '434555696749605'                   \n",
    "app_secret   = '097e4b7be85e9025178efcb5e7fe6840'\n",
    "access_token = app_id + '|' + app_secret\n",
    "page_id      = 'leehsienloong'"
   ]
  },
  {
   "cell_type": "markdown",
   "metadata": {},
   "source": [
    "##### We can also specify the *period* that we want, such as between 2015-01-01 and 2015-01-05"
   ]
  },
  {
   "cell_type": "code",
   "execution_count": 3,
   "metadata": {
    "collapsed": true
   },
   "outputs": [],
   "source": [
    "from datetime import datetime\n",
    "import time\n",
    "\n",
    "def get_epoch_timestamp(date_str):\n",
    "    return int(time.mktime(datetime.strptime(date_str, '%Y-%m-%d').timetuple()))"
   ]
  },
  {
   "cell_type": "code",
   "execution_count": 4,
   "metadata": {
    "collapsed": true
   },
   "outputs": [],
   "source": [
    "start_ts = get_epoch_timestamp('2015-01-01')\n",
    "end_ts   = get_epoch_timestamp('2015-01-05')"
   ]
  },
  {
   "cell_type": "markdown",
   "metadata": {},
   "source": [
    "# Start!"
   ]
  },
  {
   "cell_type": "code",
   "execution_count": 5,
   "metadata": {
    "collapsed": false
   },
   "outputs": [
    {
     "name": "stdout",
     "output_type": "stream",
     "text": [
      "Scraping \"leehsienloong\" Facebook Page (simple mode): 2016-01-18 21:08:25.899105\n",
      "\n",
      "\n",
      "Done!\n",
      "7 Statuses Processed in 0:00:03.142326\n"
     ]
    }
   ],
   "source": [
    "fss.scrape_fb_page_feed_status(page_id, access_token, start_ts=start_ts, end_ts=end_ts, is_simple_mode=True)"
   ]
  },
  {
   "cell_type": "markdown",
   "metadata": {
    "collapsed": true
   },
   "source": [
    "##### Check the \"output\" folder for the CSV file \"leehsienloong_2016-01-18_210825_fb_page_feed_SIMPLE_MODE.csv\""
   ]
  }
 ],
 "metadata": {
  "kernelspec": {
   "display_name": "Python 2",
   "language": "python",
   "name": "python2"
  },
  "language_info": {
   "codemirror_mode": {
    "name": "ipython",
    "version": 2
   },
   "file_extension": ".py",
   "mimetype": "text/x-python",
   "name": "python",
   "nbconvert_exporter": "python",
   "pygments_lexer": "ipython2",
   "version": "2.7.11"
  }
 },
 "nbformat": 4,
 "nbformat_minor": 0
}
