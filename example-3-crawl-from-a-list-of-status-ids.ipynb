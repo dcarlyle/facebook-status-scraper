{
 "cells": [
  {
   "cell_type": "code",
   "execution_count": 1,
   "metadata": {
    "collapsed": true
   },
   "outputs": [],
   "source": [
    "import FacebookStatusScraper as fss"
   ]
  },
  {
   "cell_type": "markdown",
   "metadata": {},
   "source": [
    "##### We already have a list of status_ids that we want to scrape (the status_ids are from *TheStraitsTimes* facebook page)."
   ]
  },
  {
   "cell_type": "code",
   "execution_count": 2,
   "metadata": {
    "collapsed": true
   },
   "outputs": [],
   "source": [
    "app_id        = '434555696749605'                   \n",
    "app_secret    = '097e4b7be85e9025178efcb5e7fe6840'\n",
    "access_token  = app_id + '|' + app_secret\n",
    "page_id       = 'TheStraitsTimes_ListOfStatusIDs' # You can name it *anything*, even \"mickey mouse\""
   ]
  },
  {
   "cell_type": "code",
   "execution_count": 3,
   "metadata": {
    "collapsed": true
   },
   "outputs": [],
   "source": [
    "list_of_status_ids = \"\"\"\n",
    "    129011692114_10153011518257115\n",
    "    129011692114_10153011517612115\n",
    "    129011692114_10153011422462115\n",
    "\"\"\""
   ]
  },
  {
   "cell_type": "markdown",
   "metadata": {},
   "source": [
    "##### Preprocess the list of status_ids"
   ]
  },
  {
   "cell_type": "code",
   "execution_count": 4,
   "metadata": {
    "collapsed": true
   },
   "outputs": [],
   "source": [
    "list_of_status_ids = [x.strip() for x in list_of_status_ids.split()]"
   ]
  },
  {
   "cell_type": "markdown",
   "metadata": {},
   "source": [
    "# Start!"
   ]
  },
  {
   "cell_type": "code",
   "execution_count": 5,
   "metadata": {
    "collapsed": false
   },
   "outputs": [
    {
     "name": "stdout",
     "output_type": "stream",
     "text": [
      "Scraping \"TheStraitsTimes_ListOfStatusIDs\" Facebook Page (normal mode): 2016-01-18 21:13:13.048414\n",
      "\n",
      "\n",
      "Done!\n",
      "3 Statuses Processed in 0:03:05.825845\n"
     ]
    }
   ],
   "source": [
    "fss.scrape_fb_page_feed_status(page_id, access_token, list_of_status_ids=list_of_status_ids)"
   ]
  },
  {
   "cell_type": "markdown",
   "metadata": {
    "collapsed": true
   },
   "source": [
    "##### Check the \"output\" folder for the CSV file \"TheStraitsTimes_ListOfStatusIDs_2016-01-18_211313_fb_page_feed.csv\""
   ]
  }
 ],
 "metadata": {
  "kernelspec": {
   "display_name": "Python 2",
   "language": "python",
   "name": "python2"
  },
  "language_info": {
   "codemirror_mode": {
    "name": "ipython",
    "version": 2
   },
   "file_extension": ".py",
   "mimetype": "text/x-python",
   "name": "python",
   "nbconvert_exporter": "python",
   "pygments_lexer": "ipython2",
   "version": "2.7.11"
  }
 },
 "nbformat": 4,
 "nbformat_minor": 0
}
